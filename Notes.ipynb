{
 "cells": [
  {
   "cell_type": "markdown",
   "id": "b55d21aa",
   "metadata": {},
   "source": [
    "<h1>Mover arquivos com Python</h1>"
   ]
  },
  {
   "cell_type": "markdown",
   "id": "9e27aec3",
   "metadata": {},
   "source": [
    "<p>O primeiro passo é importar as bibliotecas:</p>"
   ]
  },
  {
   "cell_type": "code",
   "execution_count": null,
   "id": "68387e4a",
   "metadata": {},
   "outputs": [],
   "source": [
    "import os # comandos no sistema operacional\n",
    "import shutil # operações com arquivos\n",
    "import datetime # manipulação de datas"
   ]
  },
  {
   "cell_type": "markdown",
   "id": "7c1cac16",
   "metadata": {},
   "source": [
    "<p>O segundo passo é descobrir qual é o arquivo mais recente da pasta:</p>"
   ]
  },
  {
   "cell_type": "code",
   "execution_count": null,
   "id": "9af91f99",
   "metadata": {},
   "outputs": [],
   "source": [
    "caminho = \"caminho\" # definindo o caminho que será pesquisado\n",
    "lista_arquivos = os.listdir(caminho) # listando o diretório\n",
    "\n",
    "lista_datas = [] #criando array da lista de datas\n",
    "for arquivo in lista_arquivos: # para cada arquivo na lista\n",
    "    if \".txt\" in arquivo: # se possuir .txt no nome\n",
    "        data = os.path.getmtime(f\"{caminho}/{arquivo}\") # pega a data do arquivo\n",
    "        lista_datas.append((data, arquivo)) \n",
    "\n",
    "lista_datas.sort(reverse=True)\n",
    "ultimo_arquivo = lista_datas[0] # o último arquivo é o índice 0 da lista_datas"
   ]
  },
  {
   "cell_type": "markdown",
   "id": "9f8b1021",
   "metadata": {},
   "source": [
    "<p> Terceiro passo: Obter a data de hoje, e criar uma variável que armazene isso:</p>"
   ]
  },
  {
   "cell_type": "code",
   "execution_count": null,
   "id": "bfd54da1",
   "metadata": {},
   "outputs": [],
   "source": [
    "hoje = str(datetime.date.today()) # convertido p string"
   ]
  },
  {
   "cell_type": "markdown",
   "id": "7d5bb1df",
   "metadata": {},
   "source": [
    "<p>Por fim, bastar mover utilizando o shutil:</p>"
   ]
  },
  {
   "cell_type": "code",
   "execution_count": null,
   "id": "b617483c",
   "metadata": {},
   "outputs": [],
   "source": [
    "shutil.move(\"C://caminho1/\"+ultimo_arquivo[1], \"C://caminho2/\"+ hoje+\" - \" + ultimo_arquivo[1])"
   ]
  },
  {
   "cell_type": "markdown",
   "id": "3a690893",
   "metadata": {},
   "source": [
    "<p>No caso, se o arquivo se chamasse <em>teste.txt</em>, ele terminaria em outro caminho com o nome <em>14.02.2023 - teste.txt</em>"
   ]
  }
 ],
 "metadata": {
  "kernelspec": {
   "display_name": "Python 3 (ipykernel)",
   "language": "python",
   "name": "python3"
  },
  "language_info": {
   "codemirror_mode": {
    "name": "ipython",
    "version": 3
   },
   "file_extension": ".py",
   "mimetype": "text/x-python",
   "name": "python",
   "nbconvert_exporter": "python",
   "pygments_lexer": "ipython3",
   "version": "3.11.2"
  }
 },
 "nbformat": 4,
 "nbformat_minor": 5
}
